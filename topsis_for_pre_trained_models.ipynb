{
  "nbformat": 4,
  "nbformat_minor": 0,
  "metadata": {
    "colab": {
      "provenance": []
    },
    "kernelspec": {
      "name": "python3",
      "display_name": "Python 3"
    },
    "language_info": {
      "name": "python"
    }
  },
  "cells": [
    {
      "cell_type": "code",
      "execution_count": null,
      "metadata": {
        "id": "sFdhX2rqRTcY"
      },
      "outputs": [],
      "source": [
        "import numpy as np\n",
        "import pandas as pd\n",
        "\n",
        "# Sample decision matrix (rows: models, columns: criteria)\n",
        "# Replace with actual data for your task\n",
        "data = {\n",
        "    \"Model\": [\"Model_A\", \"Model_B\", \"Model_C\", \"Model_D\"],\n",
        "    \"Accuracy\": [0.85, 0.88, 0.82, 0.87],  # Higher is better (+)\n",
        "    \"Inference_Time\": [120, 100, 150, 110],  # Lower is better (-)\n",
        "    \"Model_Size\": [500, 450, 600, 480],  # Lower is better (-)\n",
        "    \"F1_Score\": [0.80, 0.83, 0.78, 0.81],  # Higher is better (+)\n",
        "}\n",
        "\n",
        "df = pd.DataFrame(data)\n",
        "\n",
        "\n",
        "def normalize_matrix(matrix):\n",
        "    norm_matrix = matrix.copy()\n",
        "    for col in matrix.columns[1:]:\n",
        "        norm_matrix[col] = matrix[col] / np.sqrt(sum(matrix[col]**2))\n",
        "    return norm_matrix\n",
        "\n",
        "norm_df = normalize_matrix(df)\n",
        "\n",
        "# Define weights (customize as needed)\n",
        "weights = np.array([0.4, 0.2, 0.2, 0.2])  # Adjust according to importance\n",
        "\n",
        "# Identify benefit (+) and cost (-) criteria\n",
        "benefit_criteria = [\"Accuracy\", \"F1_Score\"]\n",
        "cost_criteria = [\"Inference_Time\", \"Model_Size\"]\n",
        "\n",
        "# Compute weighted normalized matrix\n",
        "weighted_matrix = norm_df.copy()\n",
        "for i, col in enumerate(weighted_matrix.columns[1:]):\n",
        "    weighted_matrix[col] = weighted_matrix[col] * weights[i]\n",
        "\n",
        "# Determine ideal best and worst solutions\n",
        "ideal_best = {col: max(weighted_matrix[col]) if col in benefit_criteria else min(weighted_matrix[col]) for col in weighted_matrix.columns[1:]}\n",
        "ideal_worst = {col: min(weighted_matrix[col]) if col in benefit_criteria else max(weighted_matrix[col]) for col in weighted_matrix.columns[1:]}\n",
        "\n",
        "# Calculate separation measures\n",
        "def calculate_separation(matrix, ideal_solution):\n",
        "    return np.sqrt(((matrix.iloc[:, 1:] - pd.Series(ideal_solution))**2).sum(axis=1))\n",
        "\n",
        "separation_best = calculate_separation(weighted_matrix, ideal_best)\n",
        "separation_worst = calculate_separation(weighted_matrix, ideal_worst)\n",
        "\n",
        "# Calculate TOPSIS score\n",
        "topsis_score = separation_worst / (separation_best + separation_worst)\n",
        "\n",
        "# Add scores to DataFrame and rank models\n",
        "df[\"TOPSIS_Score\"] = topsis_score\n",
        "df[\"Rank\"] = df[\"TOPSIS_Score\"].rank(ascending=False)\n",
        "\n",
        "# Display final ranking\n",
        "print(df.sort_values(by=\"TOPSIS_Score\", ascending=False))\n"
      ]
    }
  ]
}